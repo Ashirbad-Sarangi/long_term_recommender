{
 "cells": [
  {
   "cell_type": "code",
   "execution_count": 1,
   "id": "37bd1f85-269a-4908-b2f1-301ec16ef100",
   "metadata": {},
   "outputs": [
    {
     "name": "stderr",
     "output_type": "stream",
     "text": [
      "2024-04-26 18:38:43.803393: I tensorflow/core/util/port.cc:113] oneDNN custom operations are on. You may see slightly different numerical results due to floating-point round-off errors from different computation orders. To turn them off, set the environment variable `TF_ENABLE_ONEDNN_OPTS=0`.\n",
      "2024-04-26 18:38:43.803748: I external/local_tsl/tsl/cuda/cudart_stub.cc:32] Could not find cuda drivers on your machine, GPU will not be used.\n",
      "2024-04-26 18:38:43.806067: I external/local_tsl/tsl/cuda/cudart_stub.cc:32] Could not find cuda drivers on your machine, GPU will not be used.\n",
      "2024-04-26 18:38:43.836116: I tensorflow/core/platform/cpu_feature_guard.cc:210] This TensorFlow binary is optimized to use available CPU instructions in performance-critical operations.\n",
      "To enable the following instructions: AVX2 AVX512F AVX512_VNNI FMA, in other operations, rebuild TensorFlow with the appropriate compiler flags.\n",
      "2024-04-26 18:38:44.377662: W tensorflow/compiler/tf2tensorrt/utils/py_utils.cc:38] TF-TRT Warning: Could not find TensorRT\n"
     ]
    }
   ],
   "source": [
    "import pandas as analytics\n",
    "import numpy as maths\n",
    "import os\n",
    "import tensorflow as tf\n",
    "from tensorflow import keras\n",
    "from tensorflow.keras.layers import Embedding, GRU, Dense\n",
    "from tensorflow.keras.models import Sequential\n",
    "from data_extraction import df_data , df_items\n",
    "import warnings\n",
    "warnings.filterwarnings(\"ignore\")"
   ]
  },
  {
   "cell_type": "code",
   "execution_count": 2,
   "id": "26193e06-bb4f-4f3b-bb0c-9639e5ebc5ce",
   "metadata": {},
   "outputs": [
    {
     "name": "stderr",
     "output_type": "stream",
     "text": [
      "2024-04-26 18:38:45.420310: E external/local_xla/xla/stream_executor/cuda/cuda_driver.cc:282] failed call to cuInit: CUDA_ERROR_NO_DEVICE: no CUDA-capable device is detected\n"
     ]
    }
   ],
   "source": [
    "embedding_dimension = 20\n",
    "\n",
    "input_dimension = 18\n",
    "model = Sequential()\n",
    "model.add(Embedding(input_dim = input_dimension, output_dim=embedding_dimension))\n",
    "model.add(GRU(50, activation = 'softmax'))\n",
    "model.add(Dense(input_dimension, activation='softmax'))\n",
    "model.compile(loss = 'crossentropy',optimizer='adam', metrics=['accuracy'])\n"
   ]
  },
  {
   "cell_type": "code",
   "execution_count": 3,
   "id": "43ecf34b-a23f-45b5-a00e-72d7f3ef3c77",
   "metadata": {},
   "outputs": [],
   "source": [
    "def find_interesting_set(df_user):\n",
    "    df_user_summary = analytics.DataFrame(df_user[df_user.columns[5:]].value_counts(normalize = True)).reset_index()\n",
    "    df_interests = df_user_summary.iloc[:int(len(df_user_summary)*0.30)].drop('proportion',axis = 1)\n",
    "    df_interesting = analytics.DataFrame()\n",
    "    for row in range(len(df_interests)):\n",
    "        df_temp = df_items\n",
    "        for col in df_interests.columns :\n",
    "            df_temp = df_temp[df_temp[col] == df_interests[col].iloc[row]]\n",
    "        df_interesting = analytics.concat([df_interesting,df_temp])\n",
    "    df_interesting = df_interesting.drop_duplicates()\n",
    "    return df_interesting"
   ]
  },
  {
   "cell_type": "code",
   "execution_count": 4,
   "id": "a037cf60-9b60-4578-8676-dcca7ac57e87",
   "metadata": {},
   "outputs": [],
   "source": [
    "def calculate_rewards(rewards,f):\n",
    "    if f > 0 : value = 1\n",
    "    else : value = -.2\n",
    "    \n",
    "    \n",
    "    rewards.append(gamma**count + value)\n",
    "    return rewards"
   ]
  },
  {
   "cell_type": "code",
   "execution_count": 5,
   "id": "6787a0da-1deb-428c-a4b4-e80310f4b468",
   "metadata": {},
   "outputs": [],
   "source": [
    "def update_grad(predictions,rewards,df_remaining,df_interesting):\n",
    "    first_time = False\n",
    "    \n",
    "    try :\n",
    "        predictions.shape[1]\n",
    "        last_prediction = predictions[-1]\n",
    "        \n",
    "    except IndexError:\n",
    "        first_time = True\n",
    "        last_prediction = predictions\n",
    "        \n",
    "    updates = 0\n",
    "\n",
    "    rewards = [0] + rewards\n",
    "    \n",
    "    for count in range(len(rewards)-1):\n",
    "        if not first_time : log_vec = predictions[count-1]\n",
    "        else : log_vec = predictions\n",
    "        update = gamma ** (count) * rewards[count+1] * maths.log(log_vec)\n",
    "        updates = updates + update\n",
    "    \n",
    "    last_prediction = last_prediction + eta/len(rewards) * updates\n",
    "\n",
    "    probabilities = maths.exp(last_prediction) / maths.exp(last_prediction).sum()\n",
    "    threshold = probabilities.argsort()[-2:]\n",
    "    req = maths.zeros(len(probabilities))\n",
    "    for x in threshold :\n",
    "        req[x] = 1 \n",
    "    df_temp = df_remaining[df_remaining.columns[2:]]\n",
    "    df_temp = df_temp[df_temp[df_temp.columns[0]] == req[0]] \n",
    "    for k in range(len(df_temp.columns)):\n",
    "        df_temp = df_temp[df_temp[df_temp.columns[k]] == req[k]]\n",
    "        \n",
    "    if len(df_temp):\n",
    "        df_temp = df_temp.sample(n = 1)\n",
    "        df_temp = df_remaining.iloc[df_temp.index]\n",
    "    else :\n",
    "        df_temp = df_interesting.sample(n = 1)\n",
    "        print(\".\",end = \"\")\n",
    "    \n",
    "    return df_temp\n",
    "    \n",
    "    "
   ]
  },
  {
   "cell_type": "code",
   "execution_count": 6,
   "id": "0d0ffb39-f130-4941-8f46-37ff4a31fa40",
   "metadata": {},
   "outputs": [],
   "source": [
    "all_genres = df_items.columns[2:]"
   ]
  },
  {
   "cell_type": "code",
   "execution_count": 7,
   "id": "473ed999-b6e1-4f3c-8cda-e56ef9a3609b",
   "metadata": {},
   "outputs": [],
   "source": [
    "users = df_data.groupby('user_id').agg({'movie_id':lambda x:x.count()}).sort_values('movie_id').iloc[:20].reset_index()['user_id'].to_list()"
   ]
  },
  {
   "cell_type": "code",
   "execution_count": null,
   "id": "1063d3b3-5811-4866-916f-7d307ef7992c",
   "metadata": {},
   "outputs": [
    {
     "name": "stdout",
     "output_type": "stream",
     "text": [
      "\n",
      "For 10\n",
      "\n",
      "\tUser # 1 User ID # 36\n",
      "\tCompiling the interesting set ... Compiled\n",
      "\t\tCount #: 00 Hit #: 00 Movie # 758\n",
      "\t\tCount #: 01 Hit #: 00 Movie # 931\n",
      "\t\tCount #: 02 Hit #: 00 Movie # 264\n",
      "\t\tCount #: 03 Hit #: 00 Movie # 1210\n",
      "\t\tCount #: 04 Hit #: 00 Movie # 931\n",
      "\t\tCount #: 05 Hit #: 00 Movie # 264\n",
      "\t\tCount #: 06 Hit #: 00 Movie # 1210\n",
      "\t\tCount #: 07 Hit #: 00 Movie # 931\n",
      "\t\tCount #: 08 Hit #: 00 Movie # 1274\n",
      "\t\tCount #: 09 Hit #: 00 Movie # 38\n",
      "\t\tCount #: 10 Hit #: 00 Movie # 1210\n",
      "\t\tCount #: 11 Hit #: 00 Movie # 38\n",
      "\t\tCount #: 12 Hit #: 00 Movie # 931\n",
      "\t\tCount #: 13 Hit #: 00 Movie # 925\n",
      "\t\tCount #: 14 Hit #: 00 Movie # 925\n",
      "\t\tCount #: 15 Hit #: 00 Movie # 931\n",
      "\t\tCount #: 16 Hit #: 00 Movie # 1210\n",
      "\t\tCount #: 17 Hit #: 00 Movie # 38\n",
      "\t\tCount #: 18 Hit #: 00 Movie # 38\n",
      "\t\tCount #: 19 Hit #: 00 Movie # 38\n",
      "Final Rewards : 0.9423539247696584\n",
      "\n",
      "\tUser # 2 User ID # 34\n",
      "\tCompiling the interesting set ... Compiled\n",
      "\t\tCount #: 00 Hit #: 01 .Movie # 940\n",
      "\t\tCount #: 01 Hit #: 00 Movie # 931\n",
      "\t\tCount #: 02 Hit #: 00 Movie # 931\n",
      "\t\tCount #: 03 Hit #: 00 Movie # 925\n",
      "\t\tCount #: 04 Hit #: 00 Movie # 264\n",
      "\t\tCount #: 05 Hit #: 00 Movie # 931\n",
      "\t\tCount #: 06 Hit #: 00 Movie # 931\n",
      "\t\tCount #: 07 Hit #: 00 Movie # 758\n",
      "\t\tCount #: 08 Hit #: 00 Movie # 1210\n",
      "\t\tCount #: 09 Hit #: 00 Movie # 931\n",
      "\t\tCount #: 10 Hit #: 00 Movie # 38\n"
     ]
    }
   ],
   "source": [
    "N_counts = {}\n",
    "N_values = [10,15,20]\n",
    "# N_values = [10]\n",
    "\n",
    "reinforce = True\n",
    "gamma = 0.8\n",
    "eta = 0.9\n",
    "\n",
    "for N in N_values :\n",
    "    print(\"\\nFor\",N)\n",
    "    hit_rates = []\n",
    "    for user in users :\n",
    "        print(\"\\n\\tUser #\",users.index(user)+1, \"User ID #\",user)\n",
    "        hit_rate = 0\n",
    "        df_user = df_data[df_data['user_id'] == user].reset_index(drop = True).sort_values('timestamp')\n",
    "        df_user_movies = df_items[df_items['movie_id'].isin(df_user['movie_id'])]\n",
    "        df_user = df_user.merge(df_user_movies,on='movie_id')\n",
    "        \n",
    "        if reinforce : df_train = df_user_movies.sample(n = 1)\n",
    "        else : df_train = df_user_movies.sample(frac = 0.8)\n",
    "\n",
    "        \n",
    "        print(\"\\tCompiling the interesting set ...\",end = \" \")\n",
    "        if reinforce : df_interesting = find_interesting_set(df_user)\n",
    "        else : df_interesting = df_user_movies\n",
    "        print(\"Compiled\")\n",
    "\n",
    "        df_remaining = df_items[~df_items['movie_id'].isin(df_train['movie_id'])]\n",
    "        rewards = []\n",
    "        predictions = maths.array(df_train[df_train.columns[2:]].mean())\n",
    "        predictions = maths.exp(predictions)/maths.exp(predictions).sum()\n",
    "\n",
    "\n",
    "        \n",
    "        for count in range(len(df_user)):\n",
    "            if count == 0 :\n",
    "                last_prediction = predictions\n",
    "            else :\n",
    "                last_prediction = predictions[-1]\n",
    "                \n",
    "            selected_genres = all_genres[last_prediction.argsort()[-2:]]\n",
    "            df_candidates = df_remaining[df_remaining[selected_genres].sum(axis = 1) > 0]\n",
    "            df_candidates['weights'] = df_candidates[selected_genres[1]] * 3 + df_candidates[selected_genres[0]] * 2\n",
    "            df_candidates = df_candidates.sort_values('weights', ascending = False)\n",
    "            df_selected = df_candidates[df_candidates.columns[:-1]].iloc[:N]                        # generated list\n",
    "            \n",
    "            df_reacted = df_selected[df_selected['movie_id'].isin(df_interesting['movie_id'])]\n",
    "            if len(df_reacted) > 0 : \n",
    "                f = 1\n",
    "                df_reacted = df_reacted.sample(n = 1)\n",
    "            else : f = 0\n",
    "   \n",
    "            print(\"\\t\\tCount #:\",str(count).zfill(len(str(len(df_user)))),\"Hit #:\",str(f).zfill(len(str(len(df_user)))), end = \" \")\n",
    "            hit_rate = hit_rate + f\n",
    "            \n",
    "            df_remaining = df_items[~df_items['movie_id'].isin(df_selected['movie_id'])].reset_index(drop = True)\n",
    "\n",
    "            rewards = calculate_rewards(rewards, f)\n",
    "            df_temp = update_grad(predictions,rewards,df_remaining,df_interesting)\n",
    "\n",
    "            print(\"Movie #\",int(df_temp['movie_id']))\n",
    "            df_train = analytics.concat([df_train,df_temp])\n",
    "\n",
    "            X = maths.matrix(df_train[df_train.columns[2:]])[:-1]\n",
    "            y = maths.matrix(df_train[df_train.columns[2:]])[1:]\n",
    "            model.fit(X,y, epochs = 20, verbose = False)\n",
    "            predictions = model.predict(X, verbose = False)\n",
    "            \n",
    "\n",
    "        hit_rate = hit_rate / len(df_user)\n",
    "        hit_rates.append(hit_rate)\n",
    "        print(\"Final Rewards :\", sum(rewards))\n",
    "    N_counts.update({N:maths.array(hit_rates)})"
   ]
  },
  {
   "cell_type": "code",
   "execution_count": null,
   "id": "fc32c181-35db-4b86-aa37-6d1e3082d836",
   "metadata": {},
   "outputs": [],
   "source": [
    "maths.array(hit_rates).mean()"
   ]
  },
  {
   "cell_type": "markdown",
   "id": "e1c29ad2-2532-4080-b9ca-dec8d2266c29",
   "metadata": {},
   "source": [
    "# Values"
   ]
  },
  {
   "cell_type": "code",
   "execution_count": null,
   "id": "8c2afbc9-bd93-4a4a-b6c1-c68961195a90",
   "metadata": {},
   "outputs": [],
   "source": [
    "N_counts"
   ]
  },
  {
   "cell_type": "code",
   "execution_count": null,
   "id": "1d82bed0-1417-448f-b42c-9f48ea807721",
   "metadata": {},
   "outputs": [],
   "source": [
    "df_performance = analytics.DataFrame(data = N_counts)\n",
    "df_performance.mean()"
   ]
  }
 ],
 "metadata": {
  "kernelspec": {
   "display_name": "Python 3 (ipykernel)",
   "language": "python",
   "name": "python3"
  },
  "language_info": {
   "codemirror_mode": {
    "name": "ipython",
    "version": 3
   },
   "file_extension": ".py",
   "mimetype": "text/x-python",
   "name": "python",
   "nbconvert_exporter": "python",
   "pygments_lexer": "ipython3",
   "version": "3.10.12"
  }
 },
 "nbformat": 4,
 "nbformat_minor": 5
}
