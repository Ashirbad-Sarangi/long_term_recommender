{
 "cells": [
  {
   "cell_type": "code",
   "execution_count": 383,
   "id": "c8036fa1-f022-40d5-87ac-7b69879431d3",
   "metadata": {},
   "outputs": [],
   "source": [
    "import pandas as analytics\n",
    "import numpy as maths\n",
    "import seaborn as sns\n",
    "import matplotlib.pyplot as graph"
   ]
  },
  {
   "cell_type": "code",
   "execution_count": 466,
   "id": "0b26a777-73c5-47b8-b614-43f27a113f51",
   "metadata": {},
   "outputs": [],
   "source": [
    "filenames = ['rl-cold','sl-cold','epsilon-greedy','pop']\n",
    "# ts = ['10','15','20']\n",
    "\n",
    "dfs = []\n",
    "data = {}\n",
    "for t in ts :\n",
    "    for file in filenames:\n",
    "        N = t\n",
    "        df = analytics.read_csv(file+\".csv\")\n",
    "        dfs.append(df)\n",
    "        data.update({file:df[t]})\n",
    "        \n",
    "    \n",
    "    # df_values = analytics.DataFrame(data)\n",
    "    # sns.set_style(\"whitegrid\")\n",
    "    # sns.set_palette(\"colorblind\")\n",
    "    \n",
    "    # graph.plot(df_values['rl'],label = 'rl')\n",
    "    # graph.plot(df_values['sl'],label = 'sl')\n",
    "    # graph.plot(df_values['eg'],label = 'eg')\n",
    "    # graph.plot(df_values['pp'],label = 'pp')\n",
    "    \n",
    "    \n",
    "    # font = \"MathJax_Main\"\n",
    "    \n",
    "    \n",
    "    # graph.title('Avg Hit@'+str(N),fontsize=16, fontweight='bold', fontname=font)\n",
    "    # graph.ylabel('Hit Rate',fontsize=14, fontname=font)\n",
    "    # graph.xlabel('Progress',fontsize=14, fontname=font)\n",
    "    # graph.legend(loc='upper right')\n",
    "    \n",
    "    # fig1 = graph.gcf()\n",
    "    # graph.show()\n",
    "    # graph.draw()\n",
    "    \n",
    "    # fig1.savefig('avghit@'+str(N)+'.svg', dpi = 500)\n",
    "\n",
    "    \n",
    "    \n",
    "    \n",
    "    # graph.title('Hit Rates@10')\n",
    "    # graph.ylabel('Hit Rate')\n",
    "    # graph.xlabel('Progress')\n",
    "    # graph.legend()\n",
    "    # graph.show()\n"
   ]
  },
  {
   "cell_type": "code",
   "execution_count": 472,
   "id": "57d0b47c-32f4-4430-bda5-b115f7908a0e",
   "metadata": {},
   "outputs": [
    {
     "data": {
      "text/plain": [
       "10    0.2175\n",
       "15    0.2675\n",
       "20    0.3300\n",
       "dtype: float64"
      ]
     },
     "execution_count": 472,
     "metadata": {},
     "output_type": "execute_result"
    }
   ],
   "source": [
    "dfs[2].mean()"
   ]
  },
  {
   "cell_type": "code",
   "execution_count": 436,
   "id": "7c5aed6a-0a68-48ee-8ddd-93fecf1e4d1f",
   "metadata": {},
   "outputs": [
    {
     "data": {
      "text/plain": [
       "rl    0.50000\n",
       "sl    0.39625\n",
       "eg    0.34000\n",
       "pp    0.28750\n",
       "dtype: float64"
      ]
     },
     "execution_count": 436,
     "metadata": {},
     "output_type": "execute_result"
    }
   ],
   "source": [
    "df_values.mean()"
   ]
  },
  {
   "cell_type": "code",
   "execution_count": 464,
   "id": "4affe673-fde4-49e3-a3c6-0574cc07d214",
   "metadata": {},
   "outputs": [
    {
     "data": {
      "text/plain": [
       "10    0.235\n",
       "15    0.325\n",
       "20    0.420\n",
       "dtype: float64"
      ]
     },
     "execution_count": 464,
     "metadata": {},
     "output_type": "execute_result"
    }
   ],
   "source": [
    "df_sl = analytics.read_csv('sl-cold.csv')\n",
    "df_sl.mean()"
   ]
  },
  {
   "cell_type": "code",
   "execution_count": 465,
   "id": "4d591018-0b0d-49d2-bc6e-50e57c0fbe48",
   "metadata": {},
   "outputs": [
    {
     "data": {
      "text/plain": [
       "[       10      15      20\n",
       " 0  0.5000  0.5000  0.5000\n",
       " 1  0.2625  0.2750  0.2750\n",
       " 2  0.3625  0.4250  0.4875\n",
       " 3  0.6000  0.6625  0.7250\n",
       " 4  0.5250  0.5125  0.5250\n",
       " 5  0.5125  0.5000  0.5125\n",
       " 6  0.4875  0.5125  0.5000\n",
       " 7  0.4875  0.5125  0.4875\n",
       " 8  0.4875  0.5125  0.4875\n",
       " 9  0.4750  0.5250  0.5000,\n",
       "        10      15      20\n",
       " 0  0.0500  0.5125  0.5125\n",
       " 1  0.2875  0.2750  0.2750\n",
       " 2  0.2875  0.2750  0.7375\n",
       " 3  0.2750  0.2750  0.7500\n",
       " 4  0.5125  0.2750  0.5250\n",
       " 5  0.5125  0.2750  0.2875\n",
       " 6  0.2750  0.5125  0.0500\n",
       " 7  0.0500  0.5125  0.0500\n",
       " 8  0.0500  0.0500  0.2750\n",
       " 9  0.0500  0.0500  0.5000,\n",
       "        10      15      20\n",
       " 0  0.1500  0.2125  0.3000\n",
       " 1  0.1750  0.3125  0.3000\n",
       " 2  0.2250  0.3500  0.3000\n",
       " 3  0.2500  0.3125  0.3000\n",
       " 4  0.2000  0.3000  0.3375\n",
       " 5  0.1625  0.2750  0.3125\n",
       " 6  0.2125  0.2375  0.2500\n",
       " 7  0.2875  0.2250  0.3375\n",
       " 8  0.3000  0.2375  0.4625\n",
       " 9  0.3000  0.2500  0.5000,\n",
       "        10      15      20\n",
       " 0  0.1375  0.2625  0.2000\n",
       " 1  0.2000  0.3250  0.2500\n",
       " 2  0.2250  0.3000  0.3375\n",
       " 3  0.1875  0.2750  0.2875\n",
       " 4  0.1750  0.2875  0.2625\n",
       " 5  0.1625  0.2625  0.2250\n",
       " 6  0.1375  0.2625  0.2625\n",
       " 7  0.1500  0.2375  0.3625\n",
       " 8  0.1500  0.2000  0.4000,\n",
       "        10      15      20\n",
       " 0  0.5000  0.5000  0.5000\n",
       " 1  0.2625  0.2750  0.2750\n",
       " 2  0.3625  0.4250  0.4875\n",
       " 3  0.6000  0.6625  0.7250\n",
       " 4  0.5250  0.5125  0.5250\n",
       " 5  0.5125  0.5000  0.5125\n",
       " 6  0.4875  0.5125  0.5000\n",
       " 7  0.4875  0.5125  0.4875\n",
       " 8  0.4875  0.5125  0.4875\n",
       " 9  0.4750  0.5250  0.5000,\n",
       "        10      15      20\n",
       " 0  0.0500  0.5125  0.5125\n",
       " 1  0.2875  0.2750  0.2750\n",
       " 2  0.2875  0.2750  0.7375\n",
       " 3  0.2750  0.2750  0.7500\n",
       " 4  0.5125  0.2750  0.5250\n",
       " 5  0.5125  0.2750  0.2875\n",
       " 6  0.2750  0.5125  0.0500\n",
       " 7  0.0500  0.5125  0.0500\n",
       " 8  0.0500  0.0500  0.2750\n",
       " 9  0.0500  0.0500  0.5000,\n",
       "        10      15      20\n",
       " 0  0.1500  0.2125  0.3000\n",
       " 1  0.1750  0.3125  0.3000\n",
       " 2  0.2250  0.3500  0.3000\n",
       " 3  0.2500  0.3125  0.3000\n",
       " 4  0.2000  0.3000  0.3375\n",
       " 5  0.1625  0.2750  0.3125\n",
       " 6  0.2125  0.2375  0.2500\n",
       " 7  0.2875  0.2250  0.3375\n",
       " 8  0.3000  0.2375  0.4625\n",
       " 9  0.3000  0.2500  0.5000,\n",
       "        10      15      20\n",
       " 0  0.1375  0.2625  0.2000\n",
       " 1  0.2000  0.3250  0.2500\n",
       " 2  0.2250  0.3000  0.3375\n",
       " 3  0.1875  0.2750  0.2875\n",
       " 4  0.1750  0.2875  0.2625\n",
       " 5  0.1625  0.2625  0.2250\n",
       " 6  0.1375  0.2625  0.2625\n",
       " 7  0.1500  0.2375  0.3625\n",
       " 8  0.1500  0.2000  0.4000,\n",
       "        10      15      20\n",
       " 0  0.5000  0.5000  0.5000\n",
       " 1  0.2625  0.2750  0.2750\n",
       " 2  0.3625  0.4250  0.4875\n",
       " 3  0.6000  0.6625  0.7250\n",
       " 4  0.5250  0.5125  0.5250\n",
       " 5  0.5125  0.5000  0.5125\n",
       " 6  0.4875  0.5125  0.5000\n",
       " 7  0.4875  0.5125  0.4875\n",
       " 8  0.4875  0.5125  0.4875\n",
       " 9  0.4750  0.5250  0.5000,\n",
       "        10      15      20\n",
       " 0  0.0500  0.5125  0.5125\n",
       " 1  0.2875  0.2750  0.2750\n",
       " 2  0.2875  0.2750  0.7375\n",
       " 3  0.2750  0.2750  0.7500\n",
       " 4  0.5125  0.2750  0.5250\n",
       " 5  0.5125  0.2750  0.2875\n",
       " 6  0.2750  0.5125  0.0500\n",
       " 7  0.0500  0.5125  0.0500\n",
       " 8  0.0500  0.0500  0.2750\n",
       " 9  0.0500  0.0500  0.5000,\n",
       "        10      15      20\n",
       " 0  0.1500  0.2125  0.3000\n",
       " 1  0.1750  0.3125  0.3000\n",
       " 2  0.2250  0.3500  0.3000\n",
       " 3  0.2500  0.3125  0.3000\n",
       " 4  0.2000  0.3000  0.3375\n",
       " 5  0.1625  0.2750  0.3125\n",
       " 6  0.2125  0.2375  0.2500\n",
       " 7  0.2875  0.2250  0.3375\n",
       " 8  0.3000  0.2375  0.4625\n",
       " 9  0.3000  0.2500  0.5000,\n",
       "        10      15      20\n",
       " 0  0.1375  0.2625  0.2000\n",
       " 1  0.2000  0.3250  0.2500\n",
       " 2  0.2250  0.3000  0.3375\n",
       " 3  0.1875  0.2750  0.2875\n",
       " 4  0.1750  0.2875  0.2625\n",
       " 5  0.1625  0.2625  0.2250\n",
       " 6  0.1375  0.2625  0.2625\n",
       " 7  0.1500  0.2375  0.3625\n",
       " 8  0.1500  0.2000  0.4000]"
      ]
     },
     "execution_count": 465,
     "metadata": {},
     "output_type": "execute_result"
    }
   ],
   "source": [
    "dfs"
   ]
  }
 ],
 "metadata": {
  "kernelspec": {
   "display_name": "Python 3 (ipykernel)",
   "language": "python",
   "name": "python3"
  },
  "language_info": {
   "codemirror_mode": {
    "name": "ipython",
    "version": 3
   },
   "file_extension": ".py",
   "mimetype": "text/x-python",
   "name": "python",
   "nbconvert_exporter": "python",
   "pygments_lexer": "ipython3",
   "version": "3.10.12"
  }
 },
 "nbformat": 4,
 "nbformat_minor": 5
}
